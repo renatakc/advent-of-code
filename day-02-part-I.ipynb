{
 "cells": [
  {
   "cell_type": "code",
   "execution_count": 1,
   "metadata": {
    "scrolled": true
   },
   "outputs": [],
   "source": [
    "import urllib.request as ur # the lib that handles the url stuff\n",
    "import collections as cl"
   ]
  },
  {
   "cell_type": "code",
   "execution_count": 2,
   "metadata": {},
   "outputs": [],
   "source": [
    "fname = \"adventofcode_day2.txt\""
   ]
  },
  {
   "cell_type": "code",
   "execution_count": 3,
   "metadata": {},
   "outputs": [],
   "source": [
    "with open(fname) as f:\n",
    "    input = f.readlines()\n",
    "# you may also want to remove whitespace characters like `\\n` at the end of each line\n",
    "input = [x.strip() for x in input]"
   ]
  },
  {
   "cell_type": "code",
   "execution_count": 35,
   "metadata": {},
   "outputs": [],
   "source": [
    "import collections\n",
    "d = collections.defaultdict(int)\n",
    "for i in range(len(input)):\n",
    "    for c in input[i]:\n",
    "        d[c] += 1"
   ]
  },
  {
   "cell_type": "code",
   "execution_count": 41,
   "metadata": {},
   "outputs": [],
   "source": [
    "file = open(fname,\"r\")\n",
    "lines = file.read().strip().splitlines()"
   ]
  },
  {
   "cell_type": "code",
   "execution_count": 49,
   "metadata": {},
   "outputs": [
    {
     "name": "stdout",
     "output_type": "stream",
     "text": [
      "6200\n"
     ]
    }
   ],
   "source": [
    "c = [0, 0]\n",
    "for line in lines:\n",
    "    hasTwo = False\n",
    "    hasThree = False\n",
    "    for letter in line:\n",
    "        if not hasTwo and line.count(letter) == 2:\n",
    "            c[0] += 1\n",
    "            hasTwo = True\n",
    "        if not hasThree and line.count(letter) == 3:\n",
    "            c[1] += 1\n",
    "            hasThree = True\n",
    "        if hasTwo and hasThree:\n",
    "            break\n",
    "\n",
    "print(c[0] * c[1])"
   ]
  }
 ],
 "metadata": {
  "kernelspec": {
   "display_name": "Python 3",
   "language": "python",
   "name": "python3"
  },
  "language_info": {
   "codemirror_mode": {
    "name": "ipython",
    "version": 3
   },
   "file_extension": ".py",
   "mimetype": "text/x-python",
   "name": "python",
   "nbconvert_exporter": "python",
   "pygments_lexer": "ipython3",
   "version": "3.6.4"
  }
 },
 "nbformat": 4,
 "nbformat_minor": 2
}
